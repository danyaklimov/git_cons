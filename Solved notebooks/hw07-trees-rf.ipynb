{
 "cells": [
  {
   "cell_type": "markdown",
   "metadata": {},
   "source": [
    "# Интеллектуальный анализ данных – весна 2022\n",
    "\n",
    "# Домашнее задание 7: Деревья. Случайный лес\n",
    "\n",
    "Правила:\n",
    "\n",
    "- Домашнее задание оценивается в 10 баллов (+1 бонусный балл).\n",
    "\n",
    "\n",
    "- Можно использовать без доказательства любые результаты, встречавшиеся на лекциях или семинарах по курсу, если получение этих результатов не является вопросом задания.\n",
    "\n",
    "\n",
    "- Можно использовать любые свободные источники с обязательным указанием ссылки на них.\n",
    "\n",
    "\n",
    "- Плагиат не допускается. При обнаружении случаев списывания, 0 за работу выставляется всем участникам нарушения, даже если можно установить, кто у кого списал.\n",
    "\n",
    "<!-- ![](meme.jpg) -->\n",
    "<img src=\"meme.jpg\" alt=\"Drawing\" style=\"width: 700px;\"/>"
   ]
  },
  {
   "cell_type": "markdown",
   "metadata": {},
   "source": [
    "## Часть 1: Основы построения решающие дерева (1.5 балла)\n",
    "\n",
    "В этой части все расчёты необходимо реализовывать в виде запрограммированных формул, например, на `numpy`. **Нельзя использовать готовые реализации**. Например, если в задании требуется рассчитать энтропию, то требуется в каком-то виде релизовать расчёт по формуле, но нельзя использовать готовую реализацию `some_module.entropy()`."
   ]
  },
  {
   "cell_type": "code",
   "execution_count": 1,
   "metadata": {},
   "outputs": [],
   "source": [
    "import numpy as np\n",
    "import pandas as pd\n",
    "import matplotlib.pyplot as plt"
   ]
  },
  {
   "cell_type": "markdown",
   "metadata": {},
   "source": [
    "**Задание 1.1 (0.5 балла)** Пусть известно, что в вершину решающего дерева попали 10 объектов, 8 из которых имеют метку класса $k_1$, а 2 имеют метку класса $k_2$. Рассчитайте энтропию такого распределения классов (с натуральным логарифмом). Ответ округлите до двух знаков после запятой."
   ]
  },
  {
   "cell_type": "code",
   "execution_count": 2,
   "metadata": {},
   "outputs": [
    {
     "data": {
      "text/plain": [
       "2.07"
      ]
     },
     "execution_count": 2,
     "metadata": {},
     "output_type": "execute_result"
    }
   ],
   "source": [
    "H_Rm = np.around(-np.sum([0.8 * np.log(0.8) for i in range(8)] + [0.2 * np.log(0.2) for i in range(2)]), 2)\n",
    "H_Rm"
   ]
  },
  {
   "cell_type": "markdown",
   "metadata": {},
   "source": [
    "**Задание 1.2 (0.5 балла)** Пусть дополнительно известно, что вершина из предыдущего задания не является листовой и возможно такое разбиение, что в левое поддерево попадут все объекты класса $k_1$, а в правое - класса $k_2$. Посчитайте критерий информативности:\n",
    "\n",
    "$$\n",
    "Q(R_m, j, t) = H(R_m) - \\frac{|R_\\ell|}{|R_m|}H(R_\\ell) - \\frac{|R_r|}{|R_m|}H(R_r),\n",
    "$$\n",
    "\n",
    "где $R_m$ - множество объектов в разбиваемой вершине, $j$ - номер признака, по которому происходит разбиение, $t$ - порог разбиения, $R_\\ell$ - множество объектов в левом поддереве, $R_r$ - множество объектов в правом поддереве.\n",
    "\n",
    "Теперь в качестве $H(R)$ будем использовать индекс Джини:\n",
    "\n",
    "$$\n",
    "H(R) = \\sum_{k=1}^J p_k(1-p_k),\n",
    "$$\n",
    "где $J$ – общее количество классов (в нашем случае, $J = 2$).\n",
    "\n",
    "Ответ округлите до двух знаков после запятой."
   ]
  },
  {
   "cell_type": "code",
   "execution_count": 3,
   "metadata": {},
   "outputs": [
    {
     "data": {
      "text/plain": [
       "0.83"
      ]
     },
     "execution_count": 3,
     "metadata": {},
     "output_type": "execute_result"
    }
   ],
   "source": [
    "def gini(p: np.ndarray):\n",
    "    return np.sum(p*(1 - p))\n",
    "np.around(H_Rm - 0.8 * gini(np.array([0.8 for i in range(8)]) - 0.2 * gini(np.array([0.2 for i in range(2)]))), 2)"
   ]
  },
  {
   "cell_type": "markdown",
   "metadata": {},
   "source": [
    "**Задание 1.3 (0.5 балла)** Пусть при построении дерева образовалась листовая вершина с 10 объектами, значения целевой переменной для которых следующие: [1, 10, 5, 18, 100, 30, 50, 61, 84, 47] (решается задача регрессии). Чему будут равны предсказания модели для этих объектов?"
   ]
  },
  {
   "cell_type": "code",
   "execution_count": 5,
   "metadata": {},
   "outputs": [
    {
     "data": {
      "text/plain": [
       "40.6"
      ]
     },
     "execution_count": 5,
     "metadata": {},
     "output_type": "execute_result"
    }
   ],
   "source": [
    "np.mean([1, 10, 5, 18, 100, 30, 50, 61, 84, 47])"
   ]
  },
  {
   "cell_type": "markdown",
   "metadata": {},
   "source": [
    "## Часть 2: Решающие деревья (4.5 балла)\n",
    "\n",
    "В этой части мы напишем и протестируем собственную реализацию решающего дерева."
   ]
  },
  {
   "cell_type": "code",
   "execution_count": 6,
   "metadata": {},
   "outputs": [],
   "source": [
    "from collections import Counter\n",
    "from typing import Dict, List, Tuple, Union"
   ]
  },
  {
   "cell_type": "markdown",
   "metadata": {},
   "source": [
    "**Задание 2.1 (1.5 балла)** Реализуйте функцию `find_best_split()`, которая должна находить оптимальное разбиение подмножества обучающей выборки в соответствии с информационным критерием из **Задания 1.2**. В качестве меры хаотичности $H(R)$ для задачи регрессии испольуйте дисперсию подвыборки, а для задачи классификации – критерий Джини (определён в том же задании).\n",
    "\n",
    "Для категориальных признаков применяется наивный алгоритм разбиения: мы пытаемся найти одно значение, разбиение по которому сильнее всего увеличит критерий информативности. Иными словами, объекты с конкретным значением признака отправляем в левое поддерево, остальные - в правое. Обратите внимание, что это далеко не оптимальные способ учёта категориальных признаков. Например, можно было бы на каждое значение категориального признака создавать отдельное поддерево или использовать более сложные подходы. Подробнее об этом можно прочитать в конспектах [лекций](https://github.com/esokolov/ml-course-hse/blob/master/2019-fall/lecture-notes/lecture07-trees.pdf) по машинному обучению на ПМИ (раздел «Учёт категориальных признаков»).\n",
    "\n",
    "В качестве подсказок реализации можете пользоваться кодом из бонусной части семинара по решающим деревьям.\n",
    "\n",
    "**Бонус:** Разрешается делать цикл для перебора порогов, но возможна имплементация без него. За имплементацию без цикла – **бонус 1 балл**."
   ]
  },
  {
   "cell_type": "code",
   "execution_count": 43,
   "metadata": {},
   "outputs": [],
   "source": [
    "def find_best_split(\n",
    "    feature_vector: Union[np.ndarray, pd.DataFrame], \n",
    "    target_vector: Union[np.ndarray, pd.Series],\n",
    "    task: str = \"classification\",\n",
    "    feature_type: str = \"real\"\n",
    ") -> Tuple[np.ndarray, np.ndarray, float, float]:\n",
    "    \"\"\"\n",
    "    Указания:\n",
    "    * Пороги, приводящие к попаданию в одно из поддеревьев пустого множества объектов, не рассматриваются.\n",
    "    * В качестве порогов, нужно брать среднее двух сосдених (при сортировке) значений признака\n",
    "    * Поведение функции в случае константного признака может быть любым.\n",
    "    * При одинаковых приростах Джини или дисперсии нужно выбирать минимальный сплит.\n",
    "    * За наличие в функции циклов балл будет снижен. Векторизуйте! :)\n",
    "\n",
    "    :param feature_vector: вещественнозначный вектор значений признака\n",
    "    :param target_vector: вектор классов объектов,  len(feature_vector) == len(target_vector)\n",
    "    :param task: либо `classification`, либо `regression`\n",
    "    :param feature_type: либо `real`, либо `categorical`\n",
    "    \n",
    "    :return thresholds: отсортированный по возрастанию вектор со всеми возможными порогами, по которым объекты можно\n",
    "     разделить на две различные подвыборки, или поддерева\n",
    "    :return ginis: вектор со значениями критерия Джини для каждого из порогов в thresholds len(ginis) == len(thresholds)\n",
    "    :return threshold_best: оптимальный порог (число)\n",
    "    :return gini_best: оптимальное значение критерия Джини (число)\n",
    "    \"\"\"\n",
    "    # ᕕ(╭ರ╭ ͟ʖ╮•́)⊃¤=(————-\n",
    "    if task == 'regression':\n",
    "        zipped = list(zip(feature_vector, target_vector))\n",
    "        sortedd_zip = np.sort(zipped, axis=0)\n",
    "        sorted_feature_vector = np.sort(feature_vector)\n",
    "        var = np.var(target_vector)\n",
    "        impurity = []\n",
    "        if feature_type == 'real': \n",
    "            thresholds = np.convolve(sorted_feature_vector, np.ones(2), 'valid') #https://stackoverflow.com/questions/14313510/how-to-calculate-rolling-moving-average-using-python-numpy-scipy \n",
    "            for i in thresholds:\n",
    "                left_indexes = np.sum((sorted_feature_vector < i))\n",
    "                left_var = np.var(sortedd_zip[:left_indexes+1, 1])\n",
    "                right_var = np.var(sortedd_zip[left_indexes+1:, 1])\n",
    "                impurity.append(var - (left_indexes/len(target_vector))*left_var - ((len(target_vector)-left_indexes)/len(target_vector))*right_var)\n",
    "            best_impurity_index = np.where(np.max(impurity) == impurity)\n",
    "            best_impurity = np.max(impurity)\n",
    "            threshold_best = thresholds[best_impurity_index]\n",
    "            return thresholds, impurity, threshold_best, best_impurity\n",
    "        if feature_type == 'categorial':\n",
    "            thresholds = np.unique(feature_vector)\n",
    "            for i in thresholds:\n",
    "                left_indexes = np.where((sorted_feature_vector == i))\n",
    "                right_indexes = np.where((sorted_feature_vector != i))\n",
    "                left_var = np.var(sortedd_zip[[left_indexes]])\n",
    "                right_var = np.var(sortedd_zip[[right_indexes]])\n",
    "                impurity.append((var - (left_indexes/len(target_vector))*left_var - ((len(target_vector)-left_indexes)/len(target_vector))*right_var, i))\n",
    "            best_impurity_index = impurity.index(np.max(impurity[:,0]))\n",
    "            best_impurity = np.max(impurity[:,0])\n",
    "            threshold_best = impurity[[best_impurity_index],1]\n",
    "            return thresholds, impurity, threshold_best, best_impurity\n",
    "    if task == 'classification':\n",
    "        zipped = list(zip(feature_vector, target_vector))\n",
    "        sortedd_zip = np.sort(zipped, axis=0)\n",
    "        sorted_feature_vector = np.sort(feature_vector)\n",
    "        p1 = np.sum(target_vector)/len(target_vector) # вероятность класса 1\n",
    "        p2 = 1 - p1                                   # вероятность класса 0\n",
    "        gini = gini(np.array([p1 for i in range(np.sum(target_vector))])) + gini(np.array([p2 for i in range(len(target_vector) - np.sum(target_vector))]))\n",
    "        impurity = []\n",
    "        if feature_type == 'real':\n",
    "            thresholds = np.convolve(sorted_feature_vector, np.ones(2), 'valid')\n",
    "            for i in thresholds:\n",
    "                left_indexes = np.sum((sorted_feature_vector < i))\n",
    "                p1_left = np.sum(sortedd_zip[:left_indexes+1, 1])/len(sortedd_zip[:left_indexes+1, 1])\n",
    "                p2_left = 1 - p1_left\n",
    "                left_gini = gini(np.array([p1_left for i in range(np.sum(sortedd_zip[:left_indexes+1, 1]))])) + gini(np.array([p2_left for i in range(len(sortedd_zip[:left_indexes+1, 1]) - np.sum(sortedd_zip[:left_indexes+1, 1]))]))\n",
    "                right_indexes = np.sum((sorted_feature_vector > i))\n",
    "                p1_right = np.sum(sortedd_zip[right_indexes:,1])/len(sortedd_zip[right_indexes:,1])\n",
    "                p2_right = 1 - p1_right\n",
    "                right_gini = gini(np.array([p1_right for i in range(np.sum(sortedd_zip[right_indexes:,1]))])) + gini(np.array([p2_right for i in range(len(sortedd_zip[right_indexes:, 1]) - np.sum(sortedd_zip[right_indexes:,1]))]))\n",
    "                impurity.append(gini - (left_indexes/len(sorted_feature_vector)) * left_gini - (right_indexes/len(sorted_feature_vector)) * right_gini)\n",
    "            best_impurity_index = impurity.index(np.max(impurity))\n",
    "            best_impurity = np.max(impurity)\n",
    "            threshold_best = thresholds[best_impurity_index]\n",
    "            return thresholds, impurity, threshold_best, best_impurity\n",
    "        if feature_type == 'categorial':\n",
    "            thresholds = np.unique(feature_vector)\n",
    "            for i in thresholds:\n",
    "                left_indexes = np.where((sorted_feature_vector == i))\n",
    "                right_indexes = np.where((sorted_feature_vector != i))\n",
    "                p1_left = np.sum(sortedd_zip[[left_indexes],1])/len(sortedd_zip[[left_indexes],1])\n",
    "                p2_left = 1 - p1_left\n",
    "                p1_right = np.sum(sortedd_zip[[right_indexes],1])/len(sortedd_zip[[right_indexes],1])\n",
    "                p2_right = 1 - p1_right\n",
    "                left_gini = gini(np.array([p1_left for i in range(np.sum(sortedd_zip[[left_indexes],1]))])) + gini(np.array([p2_left for i in range(np.sum(sortedd_zip[[right_indexes],1]))]))\n",
    "                right_gini = gini(np.array([p1_right for i in range(np.sum(sortedd_zip[[right_indexes],1]))])) + gini(np.array([p2_right for i in range(np.sum(sortedd_zip[[right_indexes],1]))]))\n",
    "                impurity.append((gini - (np.sum(sortedd_zip[[left_indexes],1])/len(sorted_feature_vector)) * left_gini - (np.sum(sortedd_zip[[right_indexes],1])/len(sorted_feature_vector)) * right_gini, i))\n",
    "            best_impurity_index = impurity.index(np.max(impurity[:,0]))\n",
    "            best_impurity = np.max(impurity[:,0])\n",
    "            threshold_best = impurity[[best_impurity_index],1]\n",
    "            return thresholds, impurity, threshold_best, best_impurity\n"
   ]
  },
  {
   "cell_type": "markdown",
   "metadata": {},
   "source": [
    "Эту функцию можно протестировать на датасете `Boston` из `sklearn`."
   ]
  },
  {
   "cell_type": "code",
   "execution_count": 44,
   "metadata": {
    "scrolled": true
   },
   "outputs": [
    {
     "name": "stdout",
     "output_type": "stream",
     "text": [
      ".. _boston_dataset:\n",
      "\n",
      "Boston house prices dataset\n",
      "---------------------------\n",
      "\n",
      "**Data Set Characteristics:**  \n",
      "\n",
      "    :Number of Instances: 506 \n",
      "\n",
      "    :Number of Attributes: 13 numeric/categorical predictive. Median Value (attribute 14) is usually the target.\n",
      "\n",
      "    :Attribute Information (in order):\n",
      "        - CRIM     per capita crime rate by town\n",
      "        - ZN       proportion of residential land zoned for lots over 25,000 sq.ft.\n",
      "        - INDUS    proportion of non-retail business acres per town\n",
      "        - CHAS     Charles River dummy variable (= 1 if tract bounds river; 0 otherwise)\n",
      "        - NOX      nitric oxides concentration (parts per 10 million)\n",
      "        - RM       average number of rooms per dwelling\n",
      "        - AGE      proportion of owner-occupied units built prior to 1940\n",
      "        - DIS      weighted distances to five Boston employment centres\n",
      "        - RAD      index of accessibility to radial highways\n",
      "        - TAX      full-value property-tax rate per $10,000\n",
      "        - PTRATIO  pupil-teacher ratio by town\n",
      "        - B        1000(Bk - 0.63)^2 where Bk is the proportion of black people by town\n",
      "        - LSTAT    % lower status of the population\n",
      "        - MEDV     Median value of owner-occupied homes in $1000's\n",
      "\n",
      "    :Missing Attribute Values: None\n",
      "\n",
      "    :Creator: Harrison, D. and Rubinfeld, D.L.\n",
      "\n",
      "This is a copy of UCI ML housing dataset.\n",
      "https://archive.ics.uci.edu/ml/machine-learning-databases/housing/\n",
      "\n",
      "\n",
      "This dataset was taken from the StatLib library which is maintained at Carnegie Mellon University.\n",
      "\n",
      "The Boston house-price data of Harrison, D. and Rubinfeld, D.L. 'Hedonic\n",
      "prices and the demand for clean air', J. Environ. Economics & Management,\n",
      "vol.5, 81-102, 1978.   Used in Belsley, Kuh & Welsch, 'Regression diagnostics\n",
      "...', Wiley, 1980.   N.B. Various transformations are used in the table on\n",
      "pages 244-261 of the latter.\n",
      "\n",
      "The Boston house-price data has been used in many machine learning papers that address regression\n",
      "problems.   \n",
      "     \n",
      ".. topic:: References\n",
      "\n",
      "   - Belsley, Kuh & Welsch, 'Regression diagnostics: Identifying Influential Data and Sources of Collinearity', Wiley, 1980. 244-261.\n",
      "   - Quinlan,R. (1993). Combining Instance-Based and Model-Based Learning. In Proceedings on the Tenth International Conference of Machine Learning, 236-243, University of Massachusetts, Amherst. Morgan Kaufmann.\n",
      "\n"
     ]
    }
   ],
   "source": [
    "from sklearn.datasets import load_boston\n",
    "\n",
    "boston = load_boston()\n",
    "X = pd.DataFrame(data=boston[\"data\"], columns=boston[\"feature_names\"])\n",
    "y = boston[\"target\"]\n",
    "X.head()\n",
    "\n",
    "print(boston[\"DESCR\"])"
   ]
  },
  {
   "cell_type": "code",
   "execution_count": 45,
   "metadata": {},
   "outputs": [],
   "source": [
    "thresholds, variances, threshold_best, variance_best = find_best_split(\n",
    "    X[\"CRIM\"].to_numpy(), \n",
    "    y, \n",
    "    task=\"regression\",\n",
    "    feature_type=\"real\"\n",
    ")"
   ]
  },
  {
   "cell_type": "markdown",
   "metadata": {},
   "source": [
    "Выведите график зависимости значения критерия ошибки от порогового значения при разбиении вершины по признаку `CRIM`."
   ]
  },
  {
   "cell_type": "code",
   "execution_count": 48,
   "metadata": {},
   "outputs": [
    {
     "data": {
      "text/plain": [
       "Text(0, 0.5, 'variances')"
      ]
     },
     "execution_count": 48,
     "metadata": {},
     "output_type": "execute_result"
    },
    {
     "data": {
      "image/png": "[encoded data removed]",
      "text/plain": [
       "<Figure size 432x288 with 1 Axes>"
      ]
     },
     "metadata": {
      "needs_background": "light"
     },
     "output_type": "display_data"
    }
   ],
   "source": [
    "plt.plot(thresholds, variances)\n",
    "plt.xlabel('thresholds')\n",
    "plt.ylabel('variances')"
   ]
  },
  {
   "cell_type": "markdown",
   "metadata": {},
   "source": [
    "**Задание 2.2 (1 балл)** Разберитесь с написанным кодом решающего дерева, заполните пропуски в коде и реализуйте недостающий метод `_predict_node()`.\n",
    "\n",
    "Построение дерева осуществляется согласно базовому жадному алгоритму, предложенному в лекции в разделе «Построение дерева».\n",
    "- **Выбор лучшего разбиения** необходимо производить по критерию Джини.\n",
    "- **Критерий останова:** все объекты в листе относятся к одному классу или ни по одному признаку нельзя разбить выборку.\n",
    "- **Ответ в листе:** наиболее часто встречающийся класс в листе."
   ]
  },
  {
   "cell_type": "code",
   "execution_count": null,
   "metadata": {},
   "outputs": [],
   "source": [
    "class DecisionTree:\n",
    "    \n",
    "    def __init__(\n",
    "        self, \n",
    "        feature_types: Union[List[str], np.ndarray], \n",
    "        max_depth: int = None, \n",
    "        min_samples_split: int = None, \n",
    "        min_samples_leaf: int = None,\n",
    "        task: str = \"classification\"\n",
    "    ) -> None:\n",
    "        \n",
    "        if np.any(list(map(lambda x: x != \"real\" and x != \"categorical\", feature_types))):\n",
    "            raise ValueError(\"There is unknown feature type\")\n",
    "\n",
    "        # В этой переменной будем хранить узлы решающего дерева. Каждая вершина хранит в себе идентификатор того,\n",
    "        # является ли она листовой. Листовые вершины хранят значение класса для предсказания, нелистовые - правого и\n",
    "        # левого детей (поддеревья для продолжения процедуры предсказания)\n",
    "        self._tree = {}\n",
    "        \n",
    "        # типы признаков (категориальные или числовые)\n",
    "        self._feature_types = feature_types\n",
    "        \n",
    "        # гиперпараметры дерева\n",
    "        self._max_depth = max_depth\n",
    "        self._min_samples_split = min_samples_split\n",
    "        self._min_samples_leaf = min_samples_leaf\n",
    "        self.task = task\n",
    "\n",
    "    def _fit_node(\n",
    "        self, \n",
    "        sub_X: np.ndarray, \n",
    "        sub_y: np.ndarray, \n",
    "        node: dict\n",
    "    ) -> None:\n",
    "        \n",
    "        # критерий останова\n",
    "        if np.all(sub_y == sub_y[0]):\n",
    "            node[\"type\"] = \"terminal\"\n",
    "            node[\"class\"] = sub_y[0]\n",
    "            return\n",
    "\n",
    "        feature_best, threshold_best, gini_best, split = None, None, None, None\n",
    "        for feature in range(sub_X.shape[1]):\n",
    "            feature_type = self._feature_types[feature]\n",
    "            categories_map = {}\n",
    "\n",
    "            # подготавливаем признак для поиска оптимального порога\n",
    "            if feature_type == \"real\":\n",
    "                feature_vector = sub_X[:, feature]\n",
    "            elif feature_type == \"categorical\":\n",
    "                # здесь могла быть реализация более сложного подхода к обработке категориального признака\n",
    "                feature_vector = sub_X[:, feature]\n",
    "\n",
    "            # ищем оптимальный порог\n",
    "            _, _, threshold, gini = find_best_split(feature_vector, sub_y, self.task, feature_type)\n",
    "            \n",
    "            if gini_best is None or gini > gini_best:\n",
    "                feature_best = feature\n",
    "                gini_best = gini\n",
    "\n",
    "                # split - маска на объекты, которые должны попасть в левое поддерево\n",
    "                if feature_type == \"real\":\n",
    "                    threshold_best = threshold\n",
    "                    split = feature_vector < threshold_best\n",
    "                elif feature_type == \"categorical\":\n",
    "                    # в данной реализации это просто значение категории\n",
    "                    threshold_best = threshold\n",
    "                    split = threshold_best\n",
    "                else:\n",
    "                    raise ValueError\n",
    "\n",
    "        # записываем полученные сплиты в атрибуты класса\n",
    "        if feature_best is None:\n",
    "            node[\"type\"] = \"terminal\"\n",
    "            node[\"class\"] = Counter(sub_y).most_common(1)[0][0]\n",
    "            return\n",
    "\n",
    "        node[\"type\"] = \"nonterminal\"\n",
    "\n",
    "        node[\"feature_split\"] = feature_best\n",
    "        if self._feature_types[feature_best] == \"real\":\n",
    "            node[\"threshold\"] = threshold_best\n",
    "        elif self._feature_types[feature_best] == \"categorical\":\n",
    "            node[\"category_split\"] = threshold_best\n",
    "        else:\n",
    "            raise ValueError\n",
    "            \n",
    "        node[\"left_child\"], node[\"right_child\"] = {}, {}\n",
    "        self._fit_node(sub_X[split], sub_y[split], node[\"left_child\"])\n",
    "        self._fit_node(sub_X[np.logical_not(split)], sub_y[np.logical_not(split)], node[\"right_child\"])\n",
    "\n",
    "    def _predict_node(self, x: np.ndarray, node: dict) -> int:\n",
    "        \"\"\"\n",
    "        Предсказание начинается с корневой вершины дерева и рекурсивно идёт в левое или правое поддерево в зависимости от значения\n",
    "        предиката на объекте. Листовая вершина возвращает предсказание.\n",
    "        :param x: np.array, элемент выборки\n",
    "        :param node: dict, вершина дерева\n",
    "        \"\"\"\n",
    "        \n",
    "        pass\n",
    "\n",
    "    def fit(self, X: np.ndarray, y: np.ndarray) -> None:\n",
    "        self._fit_node(X, y, self._tree)\n",
    "\n",
    "    def predict(self, X: np.ndarray) -> np.ndarray:\n",
    "        predicted = []\n",
    "        for x in X:\n",
    "            predicted.append(self._predict_node(x, self._tree))\n",
    "            \n",
    "        return np.array(predicted)"
   ]
  },
  {
   "cell_type": "markdown",
   "metadata": {},
   "source": [
    "**Задание 2.3 (1 балл)** Загрузите таблицу [students.csv](https://drive.google.com/file/d/0B2zoFVYw1rN3a0d0Zm43TzQ4aUU/view?usp=sharing) (это немного преобразованный датасет [User Knowledge](https://archive.ics.uci.edu/ml/datasets/User+Knowledge+Modeling)). В ней признаки объекта записаны в первых пяти столбцах, а в последнем записана целевая переменная (класс: 0 или 1). Постройте на одном изображении пять кривых \"порог — значение критерия Джини\" для всех пяти признаков. Отдельно визуализируйте диаграммы рассеяния \"значение признака — класс\" для всех пяти признаков."
   ]
  },
  {
   "cell_type": "code",
   "execution_count": null,
   "metadata": {},
   "outputs": [],
   "source": []
  },
  {
   "cell_type": "markdown",
   "metadata": {},
   "source": [
    "Исходя из кривых значений критерия Джини, по какому признаку нужно производить деление выборки на два поддерева? Согласуется ли этот результат с визуальной оценкой диаграмм рассеяиния? Как бы охарактеризовали вид кривой для \"хороших\" признаков, по которым выборка делится почти идеально? Чем отличаются кривые для признаков, по которым деление практически невозможно?"
   ]
  },
  {
   "cell_type": "code",
   "execution_count": null,
   "metadata": {},
   "outputs": [],
   "source": []
  },
  {
   "cell_type": "markdown",
   "metadata": {},
   "source": [
    "**Задание 2.4 (1 балл)** Протестируйте свое решающее дерево на датасете [mushrooms](https://archive.ics.uci.edu/ml/datasets/Mushroom). \n",
    "\n",
    "1. Скачайте таблицу `agaricus-lepiota.data` (из [Data Folder](https://archive.ics.uci.edu/ml/machine-learning-databases/mushroom/)), \n",
    "2. Считайте таблицу при помощи `pandas`,\n",
    "3. Примените к каждому столбцу `LabelEncoder` (из `sklearn`), чтобы преобразовать строковые имена категорий в натуральные числа. \n",
    "\n",
    "Первый столбец — это целевая переменная (e — edible, p — poisonous) Мы будем измерять качество с помощью accuracy, так что нам не очень важно, что будет классом 1, а что — классом 0. Обучите решающее дерево на половине случайно выбранных объектов (признаки в датасете категориальные) и сделайте предсказания для оставшейся половины. Вычислите accuracy."
   ]
  },
  {
   "cell_type": "code",
   "execution_count": null,
   "metadata": {},
   "outputs": [],
   "source": []
  },
  {
   "cell_type": "markdown",
   "metadata": {},
   "source": [
    "## Часть 3: Бэггинг и случайный лес (4 балла)"
   ]
  },
  {
   "cell_type": "markdown",
   "metadata": {},
   "source": [
    "В данной части мы будем работать [с задачей предсказания диабета у пациента](https://www.kaggle.com/uciml/pima-indians-diabetes-database/data). Посмотрим на работу бэггинга над решающими деревьями и случайного леса, сравним их работу."
   ]
  },
  {
   "cell_type": "code",
   "execution_count": 7,
   "metadata": {},
   "outputs": [],
   "source": [
    "from sklearn.ensemble import BaggingClassifier, RandomForestClassifier\n",
    "from sklearn.metrics import accuracy_score, precision_score, recall_score, roc_auc_score\n",
    "from sklearn.model_selection import train_test_split\n",
    "from sklearn.tree import DecisionTreeClassifier"
   ]
  },
  {
   "cell_type": "code",
   "execution_count": 8,
   "metadata": {
    "scrolled": true
   },
   "outputs": [
    {
     "name": "stdout",
     "output_type": "stream",
     "text": [
      "Dataset shape: (768, 9)\n"
     ]
    },
    {
     "data": {
      "text/html": [
       "<div>\n",
       "<style scoped>\n",
       "    .dataframe tbody tr th:only-of-type {\n",
       "        vertical-align: middle;\n",
       "    }\n",
       "\n",
       "    .dataframe tbody tr th {\n",
       "        vertical-align: top;\n",
       "    }\n",
       "\n",
       "    .dataframe thead th {\n",
       "        text-align: right;\n",
       "    }\n",
       "</style>\n",
       "<table border=\"1\" class=\"dataframe\">\n",
       "  <thead>\n",
       "    <tr style=\"text-align: right;\">\n",
       "      <th></th>\n",
       "      <th>Pregnancies</th>\n",
       "      <th>Glucose</th>\n",
       "      <th>BloodPressure</th>\n",
       "      <th>SkinThickness</th>\n",
       "      <th>Insulin</th>\n",
       "      <th>BMI</th>\n",
       "      <th>DiabetesPedigreeFunction</th>\n",
       "      <th>Age</th>\n",
       "      <th>Outcome</th>\n",
       "    </tr>\n",
       "  </thead>\n",
       "  <tbody>\n",
       "    <tr>\n",
       "      <th>0</th>\n",
       "      <td>6</td>\n",
       "      <td>148</td>\n",
       "      <td>72</td>\n",
       "      <td>35</td>\n",
       "      <td>0</td>\n",
       "      <td>33.6</td>\n",
       "      <td>0.627</td>\n",
       "      <td>50</td>\n",
       "      <td>1</td>\n",
       "    </tr>\n",
       "    <tr>\n",
       "      <th>1</th>\n",
       "      <td>1</td>\n",
       "      <td>85</td>\n",
       "      <td>66</td>\n",
       "      <td>29</td>\n",
       "      <td>0</td>\n",
       "      <td>26.6</td>\n",
       "      <td>0.351</td>\n",
       "      <td>31</td>\n",
       "      <td>0</td>\n",
       "    </tr>\n",
       "    <tr>\n",
       "      <th>2</th>\n",
       "      <td>8</td>\n",
       "      <td>183</td>\n",
       "      <td>64</td>\n",
       "      <td>0</td>\n",
       "      <td>0</td>\n",
       "      <td>23.3</td>\n",
       "      <td>0.672</td>\n",
       "      <td>32</td>\n",
       "      <td>1</td>\n",
       "    </tr>\n",
       "    <tr>\n",
       "      <th>3</th>\n",
       "      <td>1</td>\n",
       "      <td>89</td>\n",
       "      <td>66</td>\n",
       "      <td>23</td>\n",
       "      <td>94</td>\n",
       "      <td>28.1</td>\n",
       "      <td>0.167</td>\n",
       "      <td>21</td>\n",
       "      <td>0</td>\n",
       "    </tr>\n",
       "    <tr>\n",
       "      <th>4</th>\n",
       "      <td>0</td>\n",
       "      <td>137</td>\n",
       "      <td>40</td>\n",
       "      <td>35</td>\n",
       "      <td>168</td>\n",
       "      <td>43.1</td>\n",
       "      <td>2.288</td>\n",
       "      <td>33</td>\n",
       "      <td>1</td>\n",
       "    </tr>\n",
       "  </tbody>\n",
       "</table>\n",
       "</div>"
      ],
      "text/plain": [
       "   Pregnancies  Glucose  BloodPressure  SkinThickness  Insulin   BMI  \\\n",
       "0            6      148             72             35        0  33.6   \n",
       "1            1       85             66             29        0  26.6   \n",
       "2            8      183             64              0        0  23.3   \n",
       "3            1       89             66             23       94  28.1   \n",
       "4            0      137             40             35      168  43.1   \n",
       "\n",
       "   DiabetesPedigreeFunction  Age  Outcome  \n",
       "0                     0.627   50        1  \n",
       "1                     0.351   31        0  \n",
       "2                     0.672   32        1  \n",
       "3                     0.167   21        0  \n",
       "4                     2.288   33        1  "
      ]
     },
     "execution_count": 8,
     "metadata": {},
     "output_type": "execute_result"
    }
   ],
   "source": [
    "data = pd.read_csv('C:/users/User/datasets_ml_hse/diabetes.csv')\n",
    "print(f\"Dataset shape: {data.shape}\")\n",
    "data.head()"
   ]
  },
  {
   "cell_type": "code",
   "execution_count": 53,
   "metadata": {},
   "outputs": [
    {
     "data": {
      "text/plain": [
       "['Pregnancies',\n",
       " 'Glucose',\n",
       " 'BloodPressure',\n",
       " 'SkinThickness',\n",
       " 'Insulin',\n",
       " 'BMI',\n",
       " 'DiabetesPedigreeFunction',\n",
       " 'Age',\n",
       " 'Outcome']"
      ]
     },
     "execution_count": 53,
     "metadata": {},
     "output_type": "execute_result"
    }
   ],
   "source": [
    "list(data.columns)"
   ]
  },
  {
   "cell_type": "markdown",
   "metadata": {},
   "source": [
    "Посмотрим на распределение целевой переменной"
   ]
  },
  {
   "cell_type": "code",
   "execution_count": 9,
   "metadata": {},
   "outputs": [
    {
     "data": {
      "text/plain": [
       "False"
      ]
     },
     "execution_count": 9,
     "metadata": {},
     "output_type": "execute_result"
    }
   ],
   "source": [
    "data.isna().any().any()"
   ]
  },
  {
   "cell_type": "code",
   "execution_count": 10,
   "metadata": {},
   "outputs": [
    {
     "data": {
      "image/png": "[encoded data removed]",
      "text/plain": [
       "<Figure size 432x288 with 1 Axes>"
      ]
     },
     "metadata": {
      "needs_background": "light"
     },
     "output_type": "display_data"
    }
   ],
   "source": [
    "data['Outcome'].hist()\n",
    "plt.show()"
   ]
  },
  {
   "cell_type": "markdown",
   "metadata": {},
   "source": [
    "**Задание 3.1 (0.5 балла)** Разделите данные на признаки и целевую переменную. Разбейте датасет на обучающую и тестовую части в отношении 7:3. Затем разделите обучающую выборку на обучающую-обучающую и обучающую-валидационную в соотношении 7:3 (то есть в итоге должно получиться три выборки: обучающая-обучающая (0.49 от исходного датасета), обучающая-валидационная (0.21 от исходного датасета) и тестовая (0.3 от исходного датасета)."
   ]
  },
  {
   "cell_type": "code",
   "execution_count": 11,
   "metadata": {},
   "outputs": [],
   "source": [
    "y = data['Outcome']\n",
    "X = data.drop(labels = 'Outcome', axis=1)"
   ]
  },
  {
   "cell_type": "code",
   "execution_count": 12,
   "metadata": {},
   "outputs": [],
   "source": [
    "X_train_full, X_test, y_train_full, y_test = train_test_split(X, y, test_size=0.3, random_state=23)"
   ]
  },
  {
   "cell_type": "code",
   "execution_count": 13,
   "metadata": {},
   "outputs": [],
   "source": [
    "X_train, X_val, y_train, y_val = train_test_split(X_train_full, y_train_full, test_size=0.3, random_state=24)"
   ]
  },
  {
   "cell_type": "markdown",
   "metadata": {},
   "source": [
    "**Задание 3.2 (1 балл)** На обучающей-валидационной выборке подберите оптимальные значения гиперпараметров `max_depth` и `min_samples_leaf` для `DecisionTreeClassifier`. Для этого:\n",
    "1. Создайте списки с возможными значениями для перебора.\n",
    "2. Для каждой пары значений обучите дерево на обучающей-обучающей выборке и определите качество на обучающей-валидационной выборке. В качестве критерия будем использовать `f1-меру`.\n",
    "3. Выберите ту пару значений, которая даёт наилучшее качество на обучающей-валидационной выборке. \n",
    "\n",
    "\n",
    "Обучите решающее дерево с подобранными гиперпараметрами на **полной обучающей** выборке. Оцените качество классификации на тестовой выборке по метрикам `accuracy`, `precision` и `recall`, `auc_roc`."
   ]
  },
  {
   "cell_type": "code",
   "execution_count": 14,
   "metadata": {},
   "outputs": [],
   "source": [
    "from sklearn.metrics import f1_score"
   ]
  },
  {
   "cell_type": "code",
   "execution_count": 27,
   "metadata": {},
   "outputs": [
    {
     "name": "stdout",
     "output_type": "stream",
     "text": [
      "max_depth = 1, min_samples_leaf = 1, f1_score = 0.6181818181818182\n",
      "max_depth = 1, min_samples_leaf = 2, f1_score = 0.6181818181818182\n",
      "max_depth = 1, min_samples_leaf = 3, f1_score = 0.6181818181818182\n",
      "max_depth = 1, min_samples_leaf = 4, f1_score = 0.6181818181818182\n",
      "max_depth = 1, min_samples_leaf = 5, f1_score = 0.6181818181818182\n",
      "max_depth = 1, min_samples_leaf = 6, f1_score = 0.6181818181818182\n",
      "max_depth = 1, min_samples_leaf = 7, f1_score = 0.6181818181818182\n",
      "max_depth = 1, min_samples_leaf = 8, f1_score = 0.6181818181818182\n",
      "max_depth = 1, min_samples_leaf = 9, f1_score = 0.6181818181818182\n",
      "max_depth = 1, min_samples_leaf = 10, f1_score = 0.6181818181818182\n",
      "max_depth = 2, min_samples_leaf = 1, f1_score = 0.5625\n",
      "max_depth = 2, min_samples_leaf = 2, f1_score = 0.5625\n",
      "max_depth = 2, min_samples_leaf = 3, f1_score = 0.5625\n",
      "max_depth = 2, min_samples_leaf = 4, f1_score = 0.5625\n",
      "max_depth = 2, min_samples_leaf = 5, f1_score = 0.5625\n",
      "max_depth = 2, min_samples_leaf = 6, f1_score = 0.5625\n",
      "max_depth = 2, min_samples_leaf = 7, f1_score = 0.5625\n",
      "max_depth = 2, min_samples_leaf = 8, f1_score = 0.5625\n",
      "max_depth = 2, min_samples_leaf = 9, f1_score = 0.5625\n",
      "max_depth = 2, min_samples_leaf = 10, f1_score = 0.5625\n",
      "max_depth = 3, min_samples_leaf = 1, f1_score = 0.5904761904761905\n",
      "max_depth = 3, min_samples_leaf = 2, f1_score = 0.5904761904761905\n",
      "max_depth = 3, min_samples_leaf = 3, f1_score = 0.5904761904761905\n",
      "max_depth = 3, min_samples_leaf = 4, f1_score = 0.5904761904761905\n",
      "max_depth = 3, min_samples_leaf = 5, f1_score = 0.594059405940594\n",
      "max_depth = 3, min_samples_leaf = 6, f1_score = 0.594059405940594\n",
      "max_depth = 3, min_samples_leaf = 7, f1_score = 0.594059405940594\n",
      "max_depth = 3, min_samples_leaf = 8, f1_score = 0.594059405940594\n",
      "max_depth = 3, min_samples_leaf = 9, f1_score = 0.594059405940594\n",
      "max_depth = 3, min_samples_leaf = 10, f1_score = 0.594059405940594\n",
      "max_depth = 4, min_samples_leaf = 1, f1_score = 0.5789473684210527\n",
      "max_depth = 4, min_samples_leaf = 2, f1_score = 0.5789473684210527\n",
      "max_depth = 4, min_samples_leaf = 3, f1_score = 0.5789473684210527\n",
      "max_depth = 4, min_samples_leaf = 4, f1_score = 0.584070796460177\n",
      "max_depth = 4, min_samples_leaf = 5, f1_score = 0.5686274509803922\n",
      "max_depth = 4, min_samples_leaf = 6, f1_score = 0.6126126126126126\n",
      "max_depth = 4, min_samples_leaf = 7, f1_score = 0.6379310344827587\n",
      "max_depth = 4, min_samples_leaf = 8, f1_score = 0.6379310344827587\n",
      "max_depth = 4, min_samples_leaf = 9, f1_score = 0.6379310344827587\n",
      "max_depth = 4, min_samples_leaf = 10, f1_score = 0.5892857142857143\n",
      "max_depth = 5, min_samples_leaf = 1, f1_score = 0.5048543689320388\n",
      "max_depth = 5, min_samples_leaf = 2, f1_score = 0.4444444444444445\n",
      "max_depth = 5, min_samples_leaf = 3, f1_score = 0.42105263157894735\n",
      "max_depth = 5, min_samples_leaf = 4, f1_score = 0.40860215053763443\n",
      "max_depth = 5, min_samples_leaf = 5, f1_score = 0.3764705882352941\n",
      "max_depth = 5, min_samples_leaf = 6, f1_score = 0.5111111111111111\n",
      "max_depth = 5, min_samples_leaf = 7, f1_score = 0.5\n",
      "max_depth = 5, min_samples_leaf = 8, f1_score = 0.5\n",
      "max_depth = 5, min_samples_leaf = 9, f1_score = 0.4782608695652174\n",
      "max_depth = 5, min_samples_leaf = 10, f1_score = 0.5490196078431373\n",
      "max_depth = 6, min_samples_leaf = 1, f1_score = 0.5046728971962616\n",
      "max_depth = 6, min_samples_leaf = 2, f1_score = 0.5283018867924528\n",
      "max_depth = 6, min_samples_leaf = 3, f1_score = 0.4948453608247423\n",
      "max_depth = 6, min_samples_leaf = 4, f1_score = 0.5098039215686274\n",
      "max_depth = 6, min_samples_leaf = 5, f1_score = 0.5294117647058824\n",
      "max_depth = 6, min_samples_leaf = 6, f1_score = 0.4742268041237114\n",
      "max_depth = 6, min_samples_leaf = 7, f1_score = 0.5714285714285714\n",
      "max_depth = 6, min_samples_leaf = 8, f1_score = 0.5714285714285714\n",
      "max_depth = 6, min_samples_leaf = 9, f1_score = 0.5660377358490566\n",
      "max_depth = 6, min_samples_leaf = 10, f1_score = 0.5357142857142857\n",
      "max_depth = 7, min_samples_leaf = 1, f1_score = 0.5555555555555555\n",
      "max_depth = 7, min_samples_leaf = 2, f1_score = 0.5471698113207547\n",
      "max_depth = 7, min_samples_leaf = 3, f1_score = 0.5132743362831859\n",
      "max_depth = 7, min_samples_leaf = 4, f1_score = 0.5272727272727272\n",
      "max_depth = 7, min_samples_leaf = 5, f1_score = 0.4421052631578948\n",
      "max_depth = 7, min_samples_leaf = 6, f1_score = 0.45652173913043476\n",
      "max_depth = 7, min_samples_leaf = 7, f1_score = 0.5714285714285714\n",
      "max_depth = 7, min_samples_leaf = 8, f1_score = 0.5714285714285714\n",
      "max_depth = 7, min_samples_leaf = 9, f1_score = 0.5660377358490566\n",
      "max_depth = 7, min_samples_leaf = 10, f1_score = 0.5357142857142857\n",
      "max_depth = 8, min_samples_leaf = 1, f1_score = 0.5\n",
      "max_depth = 8, min_samples_leaf = 2, f1_score = 0.47169811320754723\n",
      "max_depth = 8, min_samples_leaf = 3, f1_score = 0.5\n",
      "max_depth = 8, min_samples_leaf = 4, f1_score = 0.48598130841121495\n",
      "max_depth = 8, min_samples_leaf = 5, f1_score = 0.48979591836734687\n",
      "max_depth = 8, min_samples_leaf = 6, f1_score = 0.48936170212765956\n",
      "max_depth = 8, min_samples_leaf = 7, f1_score = 0.5102040816326531\n",
      "max_depth = 8, min_samples_leaf = 8, f1_score = 0.5102040816326531\n",
      "max_depth = 8, min_samples_leaf = 9, f1_score = 0.5849056603773586\n",
      "max_depth = 8, min_samples_leaf = 10, f1_score = 0.5454545454545454\n",
      "max_depth = 9, min_samples_leaf = 1, f1_score = 0.4576271186440678\n",
      "max_depth = 9, min_samples_leaf = 2, f1_score = 0.4909090909090909\n",
      "max_depth = 9, min_samples_leaf = 3, f1_score = 0.5\n",
      "max_depth = 9, min_samples_leaf = 4, f1_score = 0.48598130841121495\n",
      "max_depth = 9, min_samples_leaf = 5, f1_score = 0.5050505050505051\n",
      "max_depth = 9, min_samples_leaf = 6, f1_score = 0.41758241758241754\n",
      "max_depth = 9, min_samples_leaf = 7, f1_score = 0.5102040816326531\n",
      "max_depth = 9, min_samples_leaf = 8, f1_score = 0.5714285714285714\n",
      "max_depth = 9, min_samples_leaf = 9, f1_score = 0.5660377358490566\n",
      "max_depth = 9, min_samples_leaf = 10, f1_score = 0.5454545454545454\n",
      "max_depth = 10, min_samples_leaf = 1, f1_score = 0.4786324786324786\n",
      "max_depth = 10, min_samples_leaf = 2, f1_score = 0.5309734513274336\n",
      "max_depth = 10, min_samples_leaf = 3, f1_score = 0.4869565217391304\n",
      "max_depth = 10, min_samples_leaf = 4, f1_score = 0.5045045045045045\n",
      "max_depth = 10, min_samples_leaf = 5, f1_score = 0.5306122448979592\n",
      "max_depth = 10, min_samples_leaf = 6, f1_score = 0.45652173913043476\n",
      "max_depth = 10, min_samples_leaf = 7, f1_score = 0.5102040816326531\n",
      "max_depth = 10, min_samples_leaf = 8, f1_score = 0.5714285714285714\n",
      "max_depth = 10, min_samples_leaf = 9, f1_score = 0.5849056603773586\n",
      "max_depth = 10, min_samples_leaf = 10, f1_score = 0.5454545454545454\n"
     ]
    }
   ],
   "source": [
    "for i in range(1, 11):\n",
    "    for j in range(1, 11):\n",
    "        dt = DecisionTreeClassifier(max_depth=i, min_samples_leaf=j)\n",
    "        dt.fit(X_train, y_train)\n",
    "        y_pred = dt.predict(X_val)\n",
    "        print(f'max_depth = {i}, min_samples_leaf = {j}, f1_score = {f1_score(y_val, y_pred)}')"
   ]
  },
  {
   "cell_type": "markdown",
   "metadata": {},
   "source": [
    "Оптимальные гиперпараметры: max_depth = 4, min_samples_leaf = 8 0.6379310344827587"
   ]
  },
  {
   "cell_type": "code",
   "execution_count": 16,
   "metadata": {},
   "outputs": [],
   "source": [
    "from sklearn.metrics import classification_report"
   ]
  },
  {
   "cell_type": "code",
   "execution_count": 17,
   "metadata": {},
   "outputs": [
    {
     "name": "stdout",
     "output_type": "stream",
     "text": [
      "              precision    recall  f1-score   support\n",
      "\n",
      "           0       0.87      0.67      0.76       148\n",
      "           1       0.58      0.82      0.68        83\n",
      "\n",
      "    accuracy                           0.72       231\n",
      "   macro avg       0.72      0.74      0.72       231\n",
      "weighted avg       0.77      0.72      0.73       231\n",
      "\n"
     ]
    }
   ],
   "source": [
    "dt = DecisionTreeClassifier(max_depth=4, min_samples_leaf=8)\n",
    "dt.fit(X_train_full, y_train_full)\n",
    "y_pred = dt.predict(X_test)\n",
    "print(classification_report(y_test, y_pred))"
   ]
  },
  {
   "cell_type": "code",
   "execution_count": 18,
   "metadata": {},
   "outputs": [
    {
     "data": {
      "text/plain": [
       "0.7229437229437229"
      ]
     },
     "execution_count": 18,
     "metadata": {},
     "output_type": "execute_result"
    }
   ],
   "source": [
    "accuracy_score(y_test, y_pred)"
   ]
  },
  {
   "cell_type": "code",
   "execution_count": 19,
   "metadata": {},
   "outputs": [
    {
     "data": {
      "text/plain": [
       "0.7440980136763269"
      ]
     },
     "execution_count": 19,
     "metadata": {},
     "output_type": "execute_result"
    }
   ],
   "source": [
    "roc_auc_score(y_test, y_pred)"
   ]
  },
  {
   "cell_type": "markdown",
   "metadata": {},
   "source": [
    "**Задание 3.3 (0.5 балла)** Обучите `BaggingClassifier` на 50 деревьях на **полной обучающей** выборке. Оцените качество классификации на тестовой выборке по тем же метрикам."
   ]
  },
  {
   "cell_type": "code",
   "execution_count": 20,
   "metadata": {},
   "outputs": [],
   "source": [
    "bc = BaggingClassifier(n_estimators=50)"
   ]
  },
  {
   "cell_type": "code",
   "execution_count": 21,
   "metadata": {},
   "outputs": [],
   "source": [
    "bc.fit(X_train_full, y_train_full)\n",
    "y_pred = bc.predict(X_test)"
   ]
  },
  {
   "cell_type": "code",
   "execution_count": 22,
   "metadata": {},
   "outputs": [
    {
     "name": "stdout",
     "output_type": "stream",
     "text": [
      "              precision    recall  f1-score   support\n",
      "\n",
      "           0       0.80      0.84      0.82       148\n",
      "           1       0.68      0.63      0.65        83\n",
      "\n",
      "    accuracy                           0.76       231\n",
      "   macro avg       0.74      0.73      0.74       231\n",
      "weighted avg       0.76      0.76      0.76       231\n",
      "\n"
     ]
    }
   ],
   "source": [
    "print(classification_report(y_test, y_pred))"
   ]
  },
  {
   "cell_type": "code",
   "execution_count": 23,
   "metadata": {},
   "outputs": [
    {
     "data": {
      "text/plain": [
       "0.7619047619047619"
      ]
     },
     "execution_count": 23,
     "metadata": {},
     "output_type": "execute_result"
    }
   ],
   "source": [
    "accuracy_score(y_test, y_pred)"
   ]
  },
  {
   "cell_type": "code",
   "execution_count": 24,
   "metadata": {},
   "outputs": [
    {
     "data": {
      "text/plain": [
       "0.7321719309671118"
      ]
     },
     "execution_count": 24,
     "metadata": {},
     "output_type": "execute_result"
    }
   ],
   "source": [
    "roc_auc_score(y_test, y_pred)"
   ]
  },
  {
   "cell_type": "markdown",
   "metadata": {},
   "source": [
    "**Задание 3.4 (1 балл)** Выполните кросс-валидацию на полной обучающей выборке и подберите оптимальные значения гиперпараметров `max_depth` и `min_samples_split` для `Random Forest` с 50 деревьями. Для этого:\n",
    "\n",
    "1. Создайте списки с возможными значениями для перебора.\n",
    "2. Для каждой пары значений проведите кросс-валидацию на полной обучающей выборке. Количество разбиений выберите на ваш вкус. В качестве критерия будем использовать `f1-меру`. Усредните значение критерия по всем прогонам кросс-валидации. \n",
    "3. Выберите ту пару значений, которая даёт наилучшее среднее качество. \n",
    "\n",
    "Обучите случайный лес с подобранными гиперпараметрами на **полной обучающей** выборке. Оцените качество классификации по тем же метрикам. Какая из трёх построенных моделей показала себя лучше?"
   ]
  },
  {
   "cell_type": "code",
   "execution_count": 28,
   "metadata": {},
   "outputs": [],
   "source": [
    "from sklearn.model_selection import GridSearchCV"
   ]
  },
  {
   "cell_type": "code",
   "execution_count": 31,
   "metadata": {},
   "outputs": [
    {
     "name": "stdout",
     "output_type": "stream",
     "text": [
      "Fitting 5 folds for each of 100 candidates, totalling 500 fits\n"
     ]
    },
    {
     "name": "stderr",
     "output_type": "stream",
     "text": [
      "C:\\ProgramData\\Anaconda3\\lib\\site-packages\\sklearn\\model_selection\\_search.py:922: UserWarning: One or more of the test scores are non-finite: [       nan 0.14280437 0.06886447 0.09836604 0.08005102 0.15104961\n",
      " 0.07860806 0.17319743 0.09480186 0.13545877        nan 0.52550277\n",
      " 0.5129069  0.52695098 0.51112599 0.52158107 0.50060401 0.53477415\n",
      " 0.53498671 0.52124902        nan 0.59014341 0.58971379 0.57261448\n",
      " 0.60768364 0.58746581 0.5684632  0.60789419 0.58611906 0.58551025\n",
      "        nan 0.61112682 0.59325597 0.59336041 0.62014639 0.61033411\n",
      " 0.59776492 0.61906614 0.61523524 0.63180522        nan 0.62290114\n",
      " 0.62666111 0.59375916 0.61669248 0.6115048  0.60159059 0.61420358\n",
      " 0.61984538 0.6232751         nan 0.61993441 0.62357121 0.63245528\n",
      " 0.6194796  0.61407647 0.61379891 0.63171461 0.61042158 0.61302734\n",
      "        nan 0.62923527 0.61242424 0.62849515 0.61940746 0.6443414\n",
      " 0.6000808  0.62950551 0.62271652 0.6163068         nan 0.62362609\n",
      " 0.62414247 0.59315335 0.61564158 0.61896453 0.62844021 0.63551483\n",
      " 0.64088889 0.62645128        nan 0.62523327 0.63708509 0.61255156\n",
      " 0.62784335 0.61751262 0.62179243 0.6301361  0.63122255 0.6138117\n",
      "        nan 0.6225499  0.62863072 0.6294686  0.61950098 0.61728015\n",
      " 0.60851793 0.61888617 0.62895374 0.61857828]\n",
      "  warnings.warn(\n"
     ]
    },
    {
     "data": {
      "text/plain": [
       "GridSearchCV(estimator=RandomForestClassifier(), n_jobs=10,\n",
       "             param_grid={'max_depth': [1, 2, 3, 4, 5, 6, 7, 8, 9, 10],\n",
       "                         'min_samples_split': [1, 2, 3, 4, 5, 6, 7, 8, 9, 10]},\n",
       "             scoring='f1', verbose=1)"
      ]
     },
     "execution_count": 31,
     "metadata": {},
     "output_type": "execute_result"
    }
   ],
   "source": [
    "max_depth = list(range(1, 11))\n",
    "min_samples_split = list(range(1, 11))\n",
    "grid_search = GridSearchCV(estimator = RandomForestClassifier(),\n",
    "                           param_grid = {'max_depth': max_depth, 'min_samples_split': min_samples_split},\n",
    "                           scoring = 'f1',\n",
    "                           verbose = 1,\n",
    "                           n_jobs = 10)\n",
    "grid_search.fit(X_train_full, y_train_full)"
   ]
  },
  {
   "cell_type": "code",
   "execution_count": 32,
   "metadata": {},
   "outputs": [
    {
     "data": {
      "text/plain": [
       "{'max_depth': 7, 'min_samples_split': 6}"
      ]
     },
     "execution_count": 32,
     "metadata": {},
     "output_type": "execute_result"
    }
   ],
   "source": [
    "grid_search.best_params_"
   ]
  },
  {
   "cell_type": "code",
   "execution_count": 34,
   "metadata": {},
   "outputs": [
    {
     "data": {
      "text/plain": [
       "0.6443413998148733"
      ]
     },
     "execution_count": 34,
     "metadata": {},
     "output_type": "execute_result"
    }
   ],
   "source": [
    "grid_search.best_score_"
   ]
  },
  {
   "cell_type": "code",
   "execution_count": 35,
   "metadata": {},
   "outputs": [
    {
     "name": "stdout",
     "output_type": "stream",
     "text": [
      "              precision    recall  f1-score   support\n",
      "\n",
      "           0       0.79      0.83      0.81       148\n",
      "           1       0.67      0.61      0.64        83\n",
      "\n",
      "    accuracy                           0.75       231\n",
      "   macro avg       0.73      0.72      0.73       231\n",
      "weighted avg       0.75      0.75      0.75       231\n",
      "\n"
     ]
    }
   ],
   "source": [
    "rf = RandomForestClassifier(n_estimators=50, max_depth=7, min_samples_split=6)\n",
    "rf.fit(X_train_full, y_train_full)\n",
    "y_pred = rf.predict(X_test)\n",
    "print(classification_report(y_test, y_pred))"
   ]
  },
  {
   "cell_type": "code",
   "execution_count": 36,
   "metadata": {},
   "outputs": [
    {
     "data": {
      "text/plain": [
       "0.7532467532467533"
      ]
     },
     "execution_count": 36,
     "metadata": {},
     "output_type": "execute_result"
    }
   ],
   "source": [
    "accuracy_score(y_test, y_pred)"
   ]
  },
  {
   "cell_type": "code",
   "execution_count": 37,
   "metadata": {},
   "outputs": [
    {
     "data": {
      "text/plain": [
       "0.7227694562031912"
      ]
     },
     "execution_count": 37,
     "metadata": {},
     "output_type": "execute_result"
    }
   ],
   "source": [
    "roc_auc_score(y_test, y_pred)"
   ]
  },
  {
   "cell_type": "markdown",
   "metadata": {},
   "source": [
    "Лучше всего себя показал `BaggingClassifier`"
   ]
  },
  {
   "cell_type": "markdown",
   "metadata": {},
   "source": [
    "**Задание 3.5 (0.5 балла)** Постройте график зависимости AUC ROC на тестовой выборке от числа деревьев (`n_estimators`) для случайного леса, обучаемого на **полной обучающей** выборке. Какие выводы можно сделать?"
   ]
  },
  {
   "cell_type": "code",
   "execution_count": 46,
   "metadata": {},
   "outputs": [
    {
     "data": {
      "image/png": "[encoded data removed]",
      "text/plain": [
       "<Figure size 432x288 with 1 Axes>"
      ]
     },
     "metadata": {
      "needs_background": "light"
     },
     "output_type": "display_data"
    }
   ],
   "source": [
    "def plot(n_estimators, X_train_full, y_train_full, X_test, y_test):\n",
    "    auc_roc = []\n",
    "    for i in range(1, n_estimators + 1):\n",
    "        rf = RandomForestClassifier(n_estimators=i)\n",
    "        rf.fit(X_train_full, y_train_full)\n",
    "        y_pred = rf.predict(X_test)\n",
    "        auc_roc.append(roc_auc_score(y_test, y_pred))\n",
    "    \n",
    "    n = list(range(1, n_estimators + 1))\n",
    "    plt.plot(n, auc_roc)\n",
    "    plt.xlabel('n_estimators')\n",
    "    plt.ylabel('AUC ROC')\n",
    "    \n",
    "plot(100, X_train_full, y_train_full, X_test, y_test)"
   ]
  },
  {
   "cell_type": "markdown",
   "metadata": {},
   "source": [
    "С ростом числа деревьев AUC ROC растет, начиная с некоторого числа деревьев выходит на плато"
   ]
  },
  {
   "cell_type": "markdown",
   "metadata": {},
   "source": [
    "**Задание 3.6 (0.5 балла)** Для лучшей модели случайного леса из **Задания 3.4** посчитайте важность признаков и постройте bar plot. Какой признак оказался самым важным для определения диабета?"
   ]
  },
  {
   "cell_type": "code",
   "execution_count": 59,
   "metadata": {},
   "outputs": [
    {
     "data": {
      "image/png": "[encoded data removed]",
      "text/plain": [
       "<Figure size 432x288 with 1 Axes>"
      ]
     },
     "metadata": {
      "needs_background": "light"
     },
     "output_type": "display_data"
    }
   ],
   "source": [
    "def plot2(X_train_full, y_train_full, X_test, y_test):\n",
    "    auc_roc = []\n",
    "    for i in list(X_train_full.columns):\n",
    "        bc = BaggingClassifier(n_estimators=50)\n",
    "        bc.fit(X_train_full.drop(columns=[i]), y_train_full)\n",
    "        y_pred = bc.predict(X_test.drop(columns=[i]))\n",
    "        auc_roc.append(roc_auc_score(y_test, y_pred))\n",
    "    \n",
    "    plt.bar(list(X_train_full.columns), auc_roc)\n",
    "    plt.xticks(rotation='vertical')\n",
    "    \n",
    "plot2(X_train_full, y_train_full, X_test, y_test)"
   ]
  },
  {
   "cell_type": "markdown",
   "metadata": {},
   "source": [
    "Хуже всего AUC ROC без признака **Glucose**, он и является самым важным"
   ]
  },
  {
   "cell_type": "code",
   "execution_count": null,
   "metadata": {},
   "outputs": [],
   "source": []
  }
 ],
 "metadata": {
  "kernelspec": {
   "display_name": "Python 3 (ipykernel)",
   "language": "python",
   "name": "python3"
  },
  "language_info": {
   "codemirror_mode": {
    "name": "ipython",
    "version": 3
   },
   "file_extension": ".py",
   "mimetype": "text/x-python",
   "name": "python",
   "nbconvert_exporter": "python",
   "pygments_lexer": "ipython3",
   "version": "3.9.7"
  }
 },
 "nbformat": 4,
 "nbformat_minor": 4
}
